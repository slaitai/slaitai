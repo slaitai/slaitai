{
  "nbformat": 4,
  "nbformat_minor": 0,
  "metadata": {
    "colab": {
      "provenance": []
    },
    "kernelspec": {
      "name": "python3",
      "display_name": "Python 3"
    },
    "language_info": {
      "name": "python"
    }
  },
  "cells": [
    {
      "cell_type": "code",
      "execution_count": 2,
      "metadata": {
        "id": "t10s3r46bEPC"
      },
      "outputs": [],
      "source": [
        "import numpy as np"
      ]
    },
    {
      "cell_type": "code",
      "source": [
        "from check_cal_simple_entropy import *"
      ],
      "metadata": {
        "id": "qYQpBVNpbXr9"
      },
      "execution_count": null,
      "outputs": []
    }
  ]
}